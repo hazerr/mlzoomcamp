{
 "cells": [
  {
   "cell_type": "markdown",
   "metadata": {},
   "source": [
    "## Question 1\n",
    "\n",
    "Run it to test that it's working locally:\n",
    "\n",
    "```bash\n",
    "docker run -it --rm -p 9696:9696 zoomcamp-model:hw10\n",
    "```\n",
    "\n",
    "And in another terminal, execute `q6_test.py` file:\n",
    "\n",
    "```bash\n",
    "python q6_test.py\n",
    "```\n",
    "\n",
    "You should see this:\n",
    "\n",
    "```python\n",
    "{'get_credit': True, 'get_credit_probability': <value>}\n",
    "```"
   ]
  },
  {
   "cell_type": "markdown",
   "metadata": {},
   "source": [
    "\n",
    "Here `<value>` is the probability of getting a credit card. You need to choose the right one.\n",
    "\n",
    "* 0.3269\n",
    "* 0.5269\n",
    "* **0.7269 <--- This**\n",
    "* 0.9269\n",
    "\n",
    "Now you can stop the container running in Docker.\n",
    "\n",
    "\n",
    "## Installing `kubectl` and `kind`\n",
    "\n",
    "You need to install:\n",
    "\n",
    "* `kubectl` - https://kubernetes.io/docs/tasks/tools/ (you might already have it - check before installing)\n",
    "* `kind` - https://kind.sigs.k8s.io/docs/user/quick-start/\n",
    "\n"
   ]
  },
  {
   "cell_type": "markdown",
   "metadata": {},
   "source": [
    "## Question 2\n",
    "\n",
    "What's the version of `kind` that you have? \n",
    "\n",
    "Use `kind --version` to find out."
   ]
  },
  {
   "cell_type": "code",
   "execution_count": 1,
   "metadata": {},
   "outputs": [
    {
     "name": "stdout",
     "output_type": "stream",
     "text": [
      "kind version 0.20.0\n"
     ]
    }
   ],
   "source": [
    "!kind --version"
   ]
  },
  {
   "cell_type": "markdown",
   "metadata": {},
   "source": [
    "\n",
    "## Creating a cluster\n",
    "\n",
    "Now let's create a cluster with `kind`:\n",
    "\n",
    "```bash\n",
    "kind create cluster\n",
    "```\n",
    "\n",
    "And check with `kubectl` that it was successfully created:\n",
    "\n",
    "```bash\n",
    "kubectl cluster-info\n",
    "```\n",
    "\n"
   ]
  },
  {
   "cell_type": "markdown",
   "metadata": {},
   "source": [
    "``` bash\n",
    "\n",
    "\n",
    "Creating cluster \"kind\" ...\n",
    " ✓ Ensuring node image (kindest/node:v1.27.3) 🖼 \n",
    " ✓ Preparing nodes 📦  \n",
    " ✓ Writing configuration 📜 \n",
    " ✓ Starting control-plane 🕹️ \n",
    " ✓ Installing CNI 🔌 \n",
    " ✓ Installing StorageClass 💾 \n",
    "Set kubectl context to \"kind-kind\"\n",
    "You can now use your cluster with:\n",
    "\n",
    "kubectl cluster-info --context kind-kind\n",
    "\n",
    "Have a nice day! 👋\n",
    "\n",
    "```"
   ]
  },
  {
   "cell_type": "markdown",
   "metadata": {},
   "source": [
    "\n",
    "[sudo] password for capaico: \n",
    "Kubernetes control plane is running at https://127.0.0.1:36981\n",
    "CoreDNS is running at https://127.0.0.1:36981/api/v1/namespaces/kube-system/services/kube-dns:dns/proxy\n",
    "\n",
    "To further debug and diagnose cluster problems, use 'kubectl cluster-info dump'.\n",
    "\n",
    "```"
   ]
  },
  {
   "cell_type": "markdown",
   "metadata": {},
   "source": [
    "\n",
    "## Question 3\n",
    "\n",
    "Now let's test if everything works. Use `kubectl` to get the list of running services. \n",
    "\n",
    "What's `CLUSTER-IP` of the service that is already running there? \n"
   ]
  },
  {
   "cell_type": "markdown",
   "metadata": {},
   "source": [
    "Use commenad ```kubectl get service``` \n",
    "\n",
    "\n",
    "```bash\n",
    "\n",
    " sudo kubectl get service\n",
    "NAME         TYPE        CLUSTER-IP   EXTERNAL-IP   PORT(S)   AGE\n",
    "kubernetes   ClusterIP   10.96.0.1    <none>        443/TCP   28m\n",
    " \n",
    "```"
   ]
  },
  {
   "cell_type": "markdown",
   "metadata": {},
   "source": [
    "\n",
    "## Question 4\n",
    "\n",
    "To be able to use the docker image we previously created (`zoomcamp-model:hw10`),\n",
    "we need to register it with `kind`.\n",
    "\n",
    "What's the command we need to run for that?\n",
    "\n",
    "* `kind create cluster`\n",
    "* `kind build node-image`\n",
    "* **`kind load docker-image`**\n",
    "* `kubectl apply`\n",
    "\n"
   ]
  },
  {
   "cell_type": "markdown",
   "metadata": {},
   "source": [
    "```bash\n",
    "\n",
    "> sudo kind load docker-image zoomcamp-model:hw10\n",
    "Image: \"zoomcamp-model:hw10\" with ID \"sha256:0b4c09a56d398dc29a213fa1170c6e72aa1f11958828a45369917e7657d807e3\" not yet present on node \"kind-control-plane\", loading...\n",
    "> sudo kind load docker-image zoomcamp-model:hw10\n",
    "Image: \"zoomcamp-model:hw10\" with ID \"sha256:0b4c09a56d398dc29a213fa1170c6e72aa1f11958828a45369917e7657d807e3\" found to be already present on all nodes.\n",
    "\n",
    "```"
   ]
  },
  {
   "cell_type": "markdown",
   "metadata": {},
   "source": [
    "\n",
    "## Question 5\n",
    "\n",
    "Now let's create a deployment config (e.g. `deployment.yaml`):\n",
    "\n",
    "```yaml\n",
    "apiVersion: apps/v1\n",
    "kind: Deployment\n",
    "metadata:\n",
    "  name: credit\n",
    "spec:\n",
    "  selector:\n",
    "    matchLabels:\n",
    "      app: credit\n",
    "  replicas: 1\n",
    "  template:\n",
    "    metadata:\n",
    "      labels:\n",
    "        app: credit\n",
    "    spec:\n",
    "      containers:\n",
    "      - name: credit\n",
    "        image: <Image>\n",
    "        resources:\n",
    "          requests:\n",
    "            memory: \"64Mi\"\n",
    "            cpu: \"100m\"            \n",
    "          limits:\n",
    "            memory: <Memory>\n",
    "            cpu: <CPU>\n",
    "        ports:\n",
    "        - containerPort: <Port>\n",
    "```\n",
    "\n",
    "Replace `<Image>`, `<Memory>`, `<CPU>`, `<Port>` with the correct values.\n",
    "\n",
    "What is the value for `<Port>`?\n",
    "\n",
    "Apply this deployment using the appropriate command and get a list of running Pods. \n",
    "You can see one running Pod.\n",
    "\n"
   ]
  },
  {
   "cell_type": "markdown",
   "metadata": {},
   "source": [
    "Answer: the value for <Port> is 9696, as stated in the entrypoint for the Docker image."
   ]
  },
  {
   "cell_type": "markdown",
   "metadata": {},
   "source": [
    "```bash\n",
    "> sudo kubectl apply -f deployment.yaml\n",
    "[sudo] password for capaico: \n",
    "deployment.apps/credit created\n",
    "> sudo kubectl get deployment\n",
    "NAME     READY   UP-TO-DATE   AVAILABLE   AGE\n",
    "credit   1/1     1            1           17s\n",
    "> sudo kubectl get pod\n",
    "NAME                     READY   STATUS    RESTARTS   AGE\n",
    "credit-975884fbf-ff7qj   1/1     Running   0          34s\n",
    " \n",
    "```"
   ]
  },
  {
   "cell_type": "markdown",
   "metadata": {},
   "source": [
    "## Question 6\n",
    "\n",
    "Let's create a service for this deployment (`service.yaml`):\n",
    "\n",
    "```yaml\n",
    "apiVersion: v1\n",
    "kind: Service\n",
    "metadata:\n",
    "  name: <Service name>\n",
    "spec:\n",
    "  type: LoadBalancer\n",
    "  selector:\n",
    "    app: <???>\n",
    "  ports:\n",
    "  - port: 80\n",
    "    targetPort: <PORT>\n",
    "```\n",
    "\n",
    "Fill it in. What do we need to write instead of `<???>`?\n",
    "\n",
    "Apply this config file.\n"
   ]
  },
  {
   "cell_type": "markdown",
   "metadata": {},
   "source": [
    "```bash\n",
    "\n",
    "> sudo kubectl apply -f service.yaml \n",
    "service/credit created\n",
    "> sudo kubectl get service\n",
    "NAME         TYPE           CLUSTER-IP     EXTERNAL-IP   PORT(S)        AGE\n",
    "credit       LoadBalancer   10.96.166.86   <pending>     80:31794/TCP   15s\n",
    "kubernetes   ClusterIP      10.96.0.1      <none>        443/TCP        3h2m\n",
    "\n",
    "```"
   ]
  },
  {
   "cell_type": "markdown",
   "metadata": {},
   "source": [
    "\n",
    "## Testing the service\n",
    "\n",
    "We can test our service locally by forwarding the port 9696 on our computer \n",
    "to the port 80 on the service:\n",
    "\n",
    "```bash\n",
    "kubectl port-forward service/<Service name> 9696:80\n",
    "```\n",
    "\n",
    "Run `q6_test.py` (from the homework 5) once again to verify that everything is working. \n",
    "You should get the same result as in Question 1."
   ]
  },
  {
   "cell_type": "markdown",
   "metadata": {},
   "source": [
    "```bash\n",
    "> sudo kubectl port-forward service/credit 9696:80\n",
    "Forwarding from 127.0.0.1:9696 -> 9696\n",
    "Forwarding from [::1]:9696 -> 9696\n",
    "\n",
    "```"
   ]
  },
  {
   "cell_type": "code",
   "execution_count": 4,
   "metadata": {},
   "outputs": [
    {
     "name": "stdout",
     "output_type": "stream",
     "text": [
      "{'get_credit': True, 'get_credit_probability': 0.726936946355423}\n"
     ]
    }
   ],
   "source": [
    "# run a test against this service\n",
    "!python3 q6_test.py"
   ]
  },
  {
   "cell_type": "markdown",
   "metadata": {},
   "source": [
    "\n",
    "## Autoscaling\n",
    "\n",
    "Now we're going to use a [HorizontalPodAutoscaler](https://kubernetes.io/docs/tasks/run-application/horizontal-pod-autoscale-walkthrough/) \n",
    "(HPA for short) that automatically updates a workload resource (such as our deployment), \n",
    "with the aim of automatically scaling the workload to match demand.\n",
    "\n",
    "Use the following command to create the HPA:\n",
    "\n",
    "```bash\n",
    "kubectl autoscale deployment credit --name credit-hpa --cpu-percent=20 --min=1 --max=3\n",
    "```\n",
    "\n",
    "You can check the current status of the new HPA by running:\n",
    "\n",
    "```bash\n",
    "kubectl get hpa\n",
    "```\n",
    "\n",
    "The output should be similar to the next:\n",
    "\n",
    "```bash\n",
    "NAME              REFERENCE                TARGETS   MINPODS   MAXPODS   REPLICAS   AGE\n",
    "credit-hpa   Deployment/credit   1%/20%    1         3         1          27s\n",
    "```\n",
    "\n",
    "`TARGET` column shows the average CPU consumption across all the Pods controlled by the corresponding deployment.\n",
    "Current CPU consumption is about 0% as there are no clients sending requests to the server.\n",
    "> \n",
    ">Note: In case the HPA instance doesn't run properly, try to install the latest Metrics Server release \n",
    "> from the `components.yaml` manifest:\n",
    "> ```bash\n",
    "> kubectl apply -f https://github.com/kubernetes-sigs/metrics-server/releases/latest/download/components.yaml\n",
    ">```\n",
    "\n",
    "\n"
   ]
  },
  {
   "cell_type": "markdown",
   "metadata": {},
   "source": [
    "```bash\n",
    "\n",
    "> sudo kubectl autoscale deployment credit --name credit-hpa --cpu-percent=20 --min=1 --max=3\n",
    "[sudo] password for majeedk: \n",
    "horizontalpodautoscaler.autoscaling/credit-hpa autoscaled\n",
    "\n",
    "> sudo kubectl get hpa\n",
    "NAME         REFERENCE           TARGETS         MINPODS   MAXPODS   REPLICAS   AGE\n",
    "credit-hpa   Deployment/credit   <unknown>/20%   1         3         1          4m5s\n",
    "```"
   ]
  },
  {
   "cell_type": "markdown",
   "metadata": {},
   "source": [
    "## Increase the load\n",
    "\n",
    "Let's see how the autoscaler reacts to increasing the load. To do this, we can slightly modify the existing\n",
    "`q6_test.py` script by putting the operator that sends the request to the credit service into a loop.\n",
    "\n",
    "```python\n",
    "while True:\n",
    "    sleep(0.1)\n",
    "    response = requests.post(url, json=client).json()\n",
    "    print(response)\n",
    "```\n",
    "\n",
    "Now you can run this script."
   ]
  },
  {
   "cell_type": "markdown",
   "metadata": {},
   "source": []
  }
 ],
 "metadata": {
  "kernelspec": {
   "display_name": "Python 3 (ipykernel)",
   "language": "python",
   "name": "python3"
  },
  "language_info": {
   "codemirror_mode": {
    "name": "ipython",
    "version": 3
   },
   "file_extension": ".py",
   "mimetype": "text/x-python",
   "name": "python",
   "nbconvert_exporter": "python",
   "pygments_lexer": "ipython3",
   "version": "3.9.13"
  }
 },
 "nbformat": 4,
 "nbformat_minor": 2
}
