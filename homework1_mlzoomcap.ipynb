{
  "nbformat": 4,
  "nbformat_minor": 0,
  "metadata": {
    "colab": {
      "provenance": [],
      "authorship_tag": "ABX9TyMq8Eut75LvkELcrmVyjsoS",
      "include_colab_link": true
    },
    "kernelspec": {
      "name": "python3",
      "display_name": "Python 3"
    },
    "language_info": {
      "name": "python"
    }
  },
  "cells": [
    {
      "cell_type": "markdown",
      "metadata": {
        "id": "view-in-github",
        "colab_type": "text"
      },
      "source": [
        "<a href=\"https://colab.research.google.com/github/hazerr/mlzoomcamp/blob/main/homework1_mlzoomcap.ipynb\" target=\"_parent\"><img src=\"https://colab.research.google.com/assets/colab-badge.svg\" alt=\"Open In Colab\"/></a>"
      ]
    },
    {
      "cell_type": "markdown",
      "source": [
        "Question 1"
      ],
      "metadata": {
        "id": "RZlE4hGWPhwS"
      }
    },
    {
      "cell_type": "code",
      "execution_count": 2,
      "metadata": {
        "id": "tu-ClTapMBCW"
      },
      "outputs": [],
      "source": [
        "import pandas as pd\n"
      ]
    },
    {
      "cell_type": "code",
      "source": [
        "pd.__version__"
      ],
      "metadata": {
        "colab": {
          "base_uri": "https://localhost:8080/",
          "height": 35
        },
        "id": "szQAilDmMLc0",
        "outputId": "a83ed86b-ed0b-4aab-ab73-387677094e1d"
      },
      "execution_count": 3,
      "outputs": [
        {
          "output_type": "execute_result",
          "data": {
            "text/plain": [
              "'1.5.3'"
            ],
            "application/vnd.google.colaboratory.intrinsic+json": {
              "type": "string"
            }
          },
          "metadata": {},
          "execution_count": 3
        }
      ]
    },
    {
      "cell_type": "code",
      "source": [
        "df = pd.read_csv(\"https://raw.githubusercontent.com/alexeygrigorev/datasets/master/housing.csv\")\n"
      ],
      "metadata": {
        "id": "6bmfyYRdMidT"
      },
      "execution_count": 35,
      "outputs": []
    },
    {
      "cell_type": "code",
      "source": [
        "print(df)"
      ],
      "metadata": {
        "colab": {
          "base_uri": "https://localhost:8080/"
        },
        "id": "h4n2pfRLm6TG",
        "outputId": "7a6cbcea-9f75-466b-c9f4-9dd22236fdab"
      },
      "execution_count": 37,
      "outputs": [
        {
          "output_type": "stream",
          "name": "stdout",
          "text": [
            "       longitude  latitude  housing_median_age  total_rooms  total_bedrooms  \\\n",
            "0        -122.23     37.88                41.0        880.0           129.0   \n",
            "1        -122.22     37.86                21.0       7099.0          1106.0   \n",
            "2        -122.24     37.85                52.0       1467.0           190.0   \n",
            "3        -122.25     37.85                52.0       1274.0           235.0   \n",
            "4        -122.25     37.85                52.0       1627.0           280.0   \n",
            "...          ...       ...                 ...          ...             ...   \n",
            "20635    -121.09     39.48                25.0       1665.0           374.0   \n",
            "20636    -121.21     39.49                18.0        697.0           150.0   \n",
            "20637    -121.22     39.43                17.0       2254.0           485.0   \n",
            "20638    -121.32     39.43                18.0       1860.0           409.0   \n",
            "20639    -121.24     39.37                16.0       2785.0           616.0   \n",
            "\n",
            "       population  households  median_income  median_house_value  \\\n",
            "0           322.0       126.0         8.3252            452600.0   \n",
            "1          2401.0      1138.0         8.3014            358500.0   \n",
            "2           496.0       177.0         7.2574            352100.0   \n",
            "3           558.0       219.0         5.6431            341300.0   \n",
            "4           565.0       259.0         3.8462            342200.0   \n",
            "...           ...         ...            ...                 ...   \n",
            "20635       845.0       330.0         1.5603             78100.0   \n",
            "20636       356.0       114.0         2.5568             77100.0   \n",
            "20637      1007.0       433.0         1.7000             92300.0   \n",
            "20638       741.0       349.0         1.8672             84700.0   \n",
            "20639      1387.0       530.0         2.3886             89400.0   \n",
            "\n",
            "      ocean_proximity  \n",
            "0            NEAR BAY  \n",
            "1            NEAR BAY  \n",
            "2            NEAR BAY  \n",
            "3            NEAR BAY  \n",
            "4            NEAR BAY  \n",
            "...               ...  \n",
            "20635          INLAND  \n",
            "20636          INLAND  \n",
            "20637          INLAND  \n",
            "20638          INLAND  \n",
            "20639          INLAND  \n",
            "\n",
            "[20640 rows x 10 columns]\n"
          ]
        }
      ]
    },
    {
      "cell_type": "markdown",
      "source": [
        "Question 2"
      ],
      "metadata": {
        "id": "AuvIjbcYPmkI"
      }
    },
    {
      "cell_type": "code",
      "source": [
        "# Obtiene el número de columnas\n",
        "num_cols = len(df.columns)\n",
        "\n",
        "print(num_cols)"
      ],
      "metadata": {
        "colab": {
          "base_uri": "https://localhost:8080/"
        },
        "id": "ysTtdbLcMmRq",
        "outputId": "6d48f91a-4739-4f98-ac3f-5b82e10e3c97"
      },
      "execution_count": 5,
      "outputs": [
        {
          "output_type": "stream",
          "name": "stdout",
          "text": [
            "10\n"
          ]
        }
      ]
    },
    {
      "cell_type": "markdown",
      "source": [
        "Question 3"
      ],
      "metadata": {
        "id": "CvGzTFEuPwEg"
      }
    },
    {
      "cell_type": "code",
      "source": [
        "# Obtener el número de columnas\n",
        "num_cols = len(df.columns)\n",
        "print(num_cols)\n",
        "\n",
        "# Obtener las columnas con valores vacíos o nulos\n",
        "null_cols = df.isnull().sum()\n",
        "null_cols = null_cols[null_cols > 0]\n",
        "print(null_cols)"
      ],
      "metadata": {
        "colab": {
          "base_uri": "https://localhost:8080/"
        },
        "id": "CjWAyxEdNSx6",
        "outputId": "f249fb5e-6e82-4457-ff2b-4477b020917c"
      },
      "execution_count": 6,
      "outputs": [
        {
          "output_type": "stream",
          "name": "stdout",
          "text": [
            "10\n",
            "total_bedrooms    207\n",
            "dtype: int64\n"
          ]
        }
      ]
    },
    {
      "cell_type": "markdown",
      "source": [
        "Question 4"
      ],
      "metadata": {
        "id": "VVz06Qd2P6Tp"
      }
    },
    {
      "cell_type": "code",
      "source": [
        "print(df['ocean_proximity'].unique().shape[0])"
      ],
      "metadata": {
        "colab": {
          "base_uri": "https://localhost:8080/"
        },
        "id": "42EHn8zoNd7z",
        "outputId": "0ffac542-cb25-4515-e730-19001621428a"
      },
      "execution_count": 7,
      "outputs": [
        {
          "output_type": "stream",
          "name": "stdout",
          "text": [
            "5\n"
          ]
        }
      ]
    },
    {
      "cell_type": "markdown",
      "source": [
        "Question 5"
      ],
      "metadata": {
        "id": "oCVVFiCpP93_"
      }
    },
    {
      "cell_type": "code",
      "source": [
        "# Filter for houses located near the bay\n",
        "df_filtered5 = df[df['ocean_proximity'] == \"NEAR BAY\"]\n",
        "\n",
        "# Calculate the average value of median_house_value\n",
        "average_value = df_filtered5['median_house_value'].mean()\n",
        "\n",
        "# Print the average value\n",
        "print(average_value)"
      ],
      "metadata": {
        "colab": {
          "base_uri": "https://localhost:8080/"
        },
        "id": "5mz68etgN8-x",
        "outputId": "0cae25bf-e18a-459a-f0e6-241b0554e2ba"
      },
      "execution_count": 38,
      "outputs": [
        {
          "output_type": "stream",
          "name": "stdout",
          "text": [
            "259212.31179039303\n"
          ]
        }
      ]
    },
    {
      "cell_type": "markdown",
      "source": [
        "Question 6"
      ],
      "metadata": {
        "id": "Pt-7Y1f3QCCX"
      }
    },
    {
      "cell_type": "code",
      "source": [
        "# Calculate the average of total_bedrooms\n",
        "average_bedrooms = df['total_bedrooms'].mean()\n",
        "\n",
        "# Print the average bedrooms\n",
        "print(average_bedrooms)"
      ],
      "metadata": {
        "colab": {
          "base_uri": "https://localhost:8080/"
        },
        "id": "HOvFXtoLOStJ",
        "outputId": "e4d3e6f1-c8c4-4ba4-a37f-572429606f56"
      },
      "execution_count": 9,
      "outputs": [
        {
          "output_type": "stream",
          "name": "stdout",
          "text": [
            "537.8705525375618\n"
          ]
        }
      ]
    },
    {
      "cell_type": "code",
      "source": [
        "# Calculate the average of total_bedrooms\n",
        "average_bedrooms = df['total_bedrooms'].mean()\n",
        "\n",
        "# Fill the missing values in total_bedrooms with the mean value\n",
        "df['total_bedrooms'].fillna(average_bedrooms, inplace=True)\n",
        "\n",
        "# Print the dataframe\n",
        "print(df)"
      ],
      "metadata": {
        "colab": {
          "base_uri": "https://localhost:8080/"
        },
        "id": "3pJqiSqUOhMR",
        "outputId": "d6c77cd0-d728-4667-e918-4f7cc04f8f53"
      },
      "execution_count": 10,
      "outputs": [
        {
          "output_type": "stream",
          "name": "stdout",
          "text": [
            "       longitude  latitude  housing_median_age  total_rooms  total_bedrooms  \\\n",
            "0        -122.23     37.88                41.0        880.0           129.0   \n",
            "1        -122.22     37.86                21.0       7099.0          1106.0   \n",
            "2        -122.24     37.85                52.0       1467.0           190.0   \n",
            "3        -122.25     37.85                52.0       1274.0           235.0   \n",
            "4        -122.25     37.85                52.0       1627.0           280.0   \n",
            "...          ...       ...                 ...          ...             ...   \n",
            "20635    -121.09     39.48                25.0       1665.0           374.0   \n",
            "20636    -121.21     39.49                18.0        697.0           150.0   \n",
            "20637    -121.22     39.43                17.0       2254.0           485.0   \n",
            "20638    -121.32     39.43                18.0       1860.0           409.0   \n",
            "20639    -121.24     39.37                16.0       2785.0           616.0   \n",
            "\n",
            "       population  households  median_income  median_house_value  \\\n",
            "0           322.0       126.0         8.3252            452600.0   \n",
            "1          2401.0      1138.0         8.3014            358500.0   \n",
            "2           496.0       177.0         7.2574            352100.0   \n",
            "3           558.0       219.0         5.6431            341300.0   \n",
            "4           565.0       259.0         3.8462            342200.0   \n",
            "...           ...         ...            ...                 ...   \n",
            "20635       845.0       330.0         1.5603             78100.0   \n",
            "20636       356.0       114.0         2.5568             77100.0   \n",
            "20637      1007.0       433.0         1.7000             92300.0   \n",
            "20638       741.0       349.0         1.8672             84700.0   \n",
            "20639      1387.0       530.0         2.3886             89400.0   \n",
            "\n",
            "      ocean_proximity  \n",
            "0            NEAR BAY  \n",
            "1            NEAR BAY  \n",
            "2            NEAR BAY  \n",
            "3            NEAR BAY  \n",
            "4            NEAR BAY  \n",
            "...               ...  \n",
            "20635          INLAND  \n",
            "20636          INLAND  \n",
            "20637          INLAND  \n",
            "20638          INLAND  \n",
            "20639          INLAND  \n",
            "\n",
            "[20640 rows x 10 columns]\n"
          ]
        }
      ]
    },
    {
      "cell_type": "code",
      "source": [
        "# Obtener las columnas con valores vacíos o nulos\n",
        "null_cols1 = df.isnull().sum()\n",
        "null_cols1 = null_cols[null_cols1 > 0]\n",
        "print(null_cols1)"
      ],
      "metadata": {
        "colab": {
          "base_uri": "https://localhost:8080/"
        },
        "id": "q-tPztiAPFhQ",
        "outputId": "01d13e22-9db6-4480-90b6-ec694dde02f3"
      },
      "execution_count": 11,
      "outputs": [
        {
          "output_type": "stream",
          "name": "stdout",
          "text": [
            "Series([], dtype: int64)\n"
          ]
        }
      ]
    },
    {
      "cell_type": "markdown",
      "source": [
        "Question 7"
      ],
      "metadata": {
        "id": "EzgwQ40ZPa94"
      }
    },
    {
      "cell_type": "code",
      "source": [
        "# Select all the options located on islands\n",
        "df_filtered = df[df['ocean_proximity'] == \"ISLAND\"]\n",
        "\n",
        "# Print the dataframe\n",
        "print(df_filtered)"
      ],
      "metadata": {
        "colab": {
          "base_uri": "https://localhost:8080/"
        },
        "id": "BqGjY9KqPdGS",
        "outputId": "f6817105-98f2-493b-e9d7-4c4711d45080"
      },
      "execution_count": 21,
      "outputs": [
        {
          "output_type": "stream",
          "name": "stdout",
          "text": [
            "      longitude  latitude  housing_median_age  total_rooms  total_bedrooms  \\\n",
            "8314    -118.32     33.35                27.0       1675.0           521.0   \n",
            "8315    -118.33     33.34                52.0       2359.0           591.0   \n",
            "8316    -118.32     33.33                52.0       2127.0           512.0   \n",
            "8317    -118.32     33.34                52.0        996.0           264.0   \n",
            "8318    -118.48     33.43                29.0        716.0           214.0   \n",
            "\n",
            "      population  households  median_income  median_house_value  \\\n",
            "8314       744.0       331.0         2.1579            450000.0   \n",
            "8315      1100.0       431.0         2.8333            414700.0   \n",
            "8316       733.0       288.0         3.3906            300000.0   \n",
            "8317       341.0       160.0         2.7361            450000.0   \n",
            "8318       422.0       173.0         2.6042            287500.0   \n",
            "\n",
            "     ocean_proximity  \n",
            "8314          ISLAND  \n",
            "8315          ISLAND  \n",
            "8316          ISLAND  \n",
            "8317          ISLAND  \n",
            "8318          ISLAND  \n"
          ]
        }
      ]
    },
    {
      "cell_type": "code",
      "source": [
        "# Select only columns housing_median_age, total_rooms, total_bedrooms\n",
        "df_filtered = df[['housing_median_age', 'total_rooms', 'total_bedrooms']]\n",
        "\n",
        "# Print the dataframe\n",
        "print(df_filtered)"
      ],
      "metadata": {
        "colab": {
          "base_uri": "https://localhost:8080/"
        },
        "id": "cdGntiMYRQ22",
        "outputId": "5fe56a82-b68e-4a88-d9ff-22c88e5ce231"
      },
      "execution_count": 22,
      "outputs": [
        {
          "output_type": "stream",
          "name": "stdout",
          "text": [
            "       housing_median_age  total_rooms  total_bedrooms\n",
            "0                    41.0        880.0           129.0\n",
            "1                    21.0       7099.0          1106.0\n",
            "2                    52.0       1467.0           190.0\n",
            "3                    52.0       1274.0           235.0\n",
            "4                    52.0       1627.0           280.0\n",
            "...                   ...          ...             ...\n",
            "20635                25.0       1665.0           374.0\n",
            "20636                18.0        697.0           150.0\n",
            "20637                17.0       2254.0           485.0\n",
            "20638                18.0       1860.0           409.0\n",
            "20639                16.0       2785.0           616.0\n",
            "\n",
            "[20640 rows x 3 columns]\n"
          ]
        }
      ]
    },
    {
      "cell_type": "code",
      "source": [
        "# Get the underlying NumPy array\n",
        "X = df_filtered.to_numpy()\n",
        "\n",
        "# Print the array\n",
        "print(X)"
      ],
      "metadata": {
        "colab": {
          "base_uri": "https://localhost:8080/"
        },
        "id": "oAdlYKdfSHUv",
        "outputId": "0f63e613-7f1f-4b19-c20b-598bfcec12b9"
      },
      "execution_count": 23,
      "outputs": [
        {
          "output_type": "stream",
          "name": "stdout",
          "text": [
            "[[  41.  880.  129.]\n",
            " [  21. 7099. 1106.]\n",
            " [  52. 1467.  190.]\n",
            " ...\n",
            " [  17. 2254.  485.]\n",
            " [  18. 1860.  409.]\n",
            " [  16. 2785.  616.]]\n"
          ]
        }
      ]
    },
    {
      "cell_type": "code",
      "source": [
        "import numpy as np\n",
        "# Transpose X\n",
        "X_T = X.T\n",
        "\n",
        "# Compute XTX\n",
        "XTX = np.matmul(X_T, X)\n",
        "\n",
        "# Print the array\n",
        "print(XTX)"
      ],
      "metadata": {
        "colab": {
          "base_uri": "https://localhost:8080/"
        },
        "id": "iAO0FfjLV5FO",
        "outputId": "ad8f8f41-f1a3-4684-aa73-046039225a0b"
      },
      "execution_count": 24,
      "outputs": [
        {
          "output_type": "stream",
          "name": "stdout",
          "text": [
            "[[2.01984850e+07 1.35332892e+09            nan]\n",
            " [1.35332892e+09 2.41621366e+11            nan]\n",
            " [           nan            nan            nan]]\n"
          ]
        }
      ]
    },
    {
      "cell_type": "code",
      "source": [
        "XTX_inv = np.linalg.inv(XTX)\n",
        "print(XTX_inv)"
      ],
      "metadata": {
        "colab": {
          "base_uri": "https://localhost:8080/"
        },
        "id": "hQrYMlquWVnT",
        "outputId": "2327cc3a-5f6d-431b-d536-68f8e3442931"
      },
      "execution_count": 25,
      "outputs": [
        {
          "output_type": "stream",
          "name": "stdout",
          "text": [
            "[[nan nan nan]\n",
            " [nan nan nan]\n",
            " [nan nan nan]]\n"
          ]
        }
      ]
    },
    {
      "cell_type": "code",
      "source": [
        "y = np.array([950, 1300, 800, 1000, 1300])\n"
      ],
      "metadata": {
        "id": "bwb8gWwsWjpr"
      },
      "execution_count": 26,
      "outputs": []
    },
    {
      "cell_type": "code",
      "source": [
        "w = np.matmul(XTX_inv, X_T)\n",
        "\n",
        "# Multiply the result by y\n",
        "print(w)"
      ],
      "metadata": {
        "colab": {
          "base_uri": "https://localhost:8080/"
        },
        "id": "GVCfS33fW49Y",
        "outputId": "67972e41-a5a8-4b30-e003-806f220bffd4"
      },
      "execution_count": 28,
      "outputs": [
        {
          "output_type": "stream",
          "name": "stdout",
          "text": [
            "[[nan nan nan ... nan nan nan]\n",
            " [nan nan nan ... nan nan nan]\n",
            " [nan nan nan ... nan nan nan]]\n"
          ]
        }
      ]
    },
    {
      "cell_type": "code",
      "source": [
        "import numpy as np\n",
        "\n",
        "# Read the housing.csv file using pandas\n",
        "df = pd.read_csv(\"https://raw.githubusercontent.com/alexeygrigorev/datasets/master/housing.csv\")\n",
        "\n",
        "# Select all the options located on islands\n",
        "df_filtered = df[df['ocean_proximity'] == \"ISLAND\"]\n",
        "\n",
        "# Select only columns housing_median_age, total_rooms, total_bedrooms\n",
        "df_filtered = df_filtered[['housing_median_age', 'total_rooms', 'total_bedrooms']]\n",
        "\n",
        "# Get the underlying NumPy array\n",
        "X = df_filtered.to_numpy()\n",
        "\n",
        "# Compute matrix-matrix multiplication between the transpose of X and X. To get the transpose, use X.T. Let's call the result XTX.\n",
        "XTX = np.matmul(X.T, X)\n",
        "\n",
        "# Compute the inverse of XTX.\n",
        "XTX_inv = np.linalg.inv(XTX)\n",
        "\n",
        "# Create an array y with values [950, 1300, 800, 1000, 1300].\n",
        "y = np.array([950, 1300, 800, 1000, 1300])\n",
        "\n",
        "# Multiply the inverse of XTX with the transpose of X, and then multiply the result by y. Call the result w.\n",
        "w = np.matmul(XTX_inv, X_T)\n",
        "\n",
        "# Print the array w\n",
        "print(w[-1])"
      ],
      "metadata": {
        "colab": {
          "base_uri": "https://localhost:8080/"
        },
        "id": "Tl25UJvYjAG7",
        "outputId": "64354c80-451d-4eb4-ca26-43366063c5a6"
      },
      "execution_count": 33,
      "outputs": [
        {
          "output_type": "stream",
          "name": "stdout",
          "text": [
            "[-0.00918146 -0.08429547 -0.01872098 ... -0.01270076 -0.00937933\n",
            " -0.01427538]\n"
          ]
        }
      ]
    }
  ]
}